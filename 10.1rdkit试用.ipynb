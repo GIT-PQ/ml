{
 "cells": [
  {
   "cell_type": "code",
   "execution_count": 1,
   "id": "2b9a746a-f2c1-40e0-aae7-896eee044973",
   "metadata": {},
   "outputs": [],
   "source": [
    "from rdkit import Chem\n",
    "from rdkit.Chem import Descriptors\n",
    "from rdkit.Chem import AllChem\n",
    "from rdkit.Chem import MACCSkeys"
   ]
  },
  {
   "cell_type": "code",
   "execution_count": 2,
   "id": "5af65d9b-dc6a-45ec-bbc9-eba286c388f1",
   "metadata": {},
   "outputs": [
    {
     "data": {
      "image/png": "[encoded data removed]",
      "text/plain": [
       "<rdkit.Chem.rdchem.Mol at 0x2aa3a0ec200>"
      ]
     },
     "execution_count": 2,
     "metadata": {},
     "output_type": "execute_result"
    }
   ],
   "source": [
    "# 阿司匹林 的SMILES\n",
    "smiles_string = 'CC(=O)OC1=CC=CC=C1C(=O)O'  \n",
    "# 将SMILES转换为RDKit分子对象\n",
    "molecule = Chem.MolFromSmiles(smiles_string)\n",
    "molecule"
   ]
  },
  {
   "cell_type": "code",
   "execution_count": 3,
   "id": "8702f2ce-af9d-4570-b1c9-9c0bb1f8ad2a",
   "metadata": {},
   "outputs": [
    {
     "name": "stdout",
     "output_type": "stream",
     "text": [
      "分子量为：180.15899999999996\n",
      "极表面积：63.60000000000001\n"
     ]
    }
   ],
   "source": [
    "# 计算描述符 物理化学性质\n",
    "mol_weight = Descriptors.MolWt(molecule) # 分子量\n",
    "polar_surface_area = Descriptors.TPSA(molecule) # 极表面积\n",
    "print(f'分子量为：{mol_weight}')\n",
    "print(f'极表面积：{polar_surface_area}')"
   ]
  },
  {
   "cell_type": "code",
   "execution_count": 4,
   "id": "3a6bb662-2fbc-4647-b855-4b2ecc0344b3",
   "metadata": {},
   "outputs": [
    {
     "name": "stderr",
     "output_type": "stream",
     "text": [
      "[14:11:20] Molecule does not have explicit Hs. Consider calling AddHs()\n"
     ]
    },
    {
     "name": "stdout",
     "output_type": "stream",
     "text": [
      "原子 1: C - X: 2.67, Y: -2.77, Z: 0.04\n",
      "原子 2: C - X: 1.27, Y: -2.29, Z: 0.04\n",
      "原子 3: O - X: 0.33, Y: -3.13, Z: 0.06\n",
      "原子 4: O - X: 1.02, Y: -0.91, Z: 0.01\n",
      "原子 5: C - X: -0.24, Y: -0.28, Z: 0.01\n",
      "原子 6: C - X: -1.43, Y: -1.02, Z: 0.03\n",
      "原子 7: C - X: -2.67, Y: -0.39, Z: 0.03\n",
      "原子 8: C - X: -2.74, Y: 1.00, Z: 0.00\n",
      "原子 9: C - X: -1.57, Y: 1.76, Z: -0.02\n",
      "原子 10: C - X: -0.31, Y: 1.14, Z: -0.02\n",
      "原子 11: C - X: 0.89, Y: 2.00, Z: -0.05\n",
      "原子 12: O - X: 2.05, Y: 1.51, Z: -0.05\n",
      "原子 13: O - X: 0.75, Y: 3.39, Z: -0.08\n"
     ]
    },
    {
     "name": "stderr",
     "output_type": "stream",
     "text": [
      "[14:11:20] Molecule does not have explicit Hs. Consider calling AddHs()\n"
     ]
    }
   ],
   "source": [
    "# 计算描述符 3D结构\n",
    "AllChem.EmbedMolecule(molecule)\n",
    "# 计算分子的力场最小能量构象\n",
    "AllChem.UFFOptimizeMolecule(molecule)\n",
    "# 获取分子的三维坐标\n",
    "conformer = molecule.GetConformer()\n",
    "num_atoms = molecule.GetNumAtoms()\n",
    "for i in range(num_atoms):\n",
    "    atom_position = conformer.GetAtomPosition(i)\n",
    "    atom_symbol = molecule.GetAtomWithIdx(i).GetSymbol()\n",
    "    print(f\"原子 {i+1}: {atom_symbol} - X: {atom_position.x:.2f}, Y: {atom_position.y:.2f}, Z: {atom_position.z:.2f}\")"
   ]
  },
  {
   "cell_type": "code",
   "execution_count": 5,
   "id": "d11477a1-d037-4b20-8deb-8b6957180ce8",
   "metadata": {},
   "outputs": [
    {
     "name": "stdout",
     "output_type": "stream",
     "text": [
      "原子索引：1-2-0，键类型：DOUBLE，角度：33.21度\n",
      "原子索引：1-3-0，键类型：SINGLE，角度：31.49度\n",
      "原子索引：3-4-1，键类型：SINGLE，角度：26.63度\n",
      "原子索引：4-5-3，键类型：AROMATIC，角度：29.36度\n",
      "原子索引：5-6-4，键类型：AROMATIC，角度：29.63度\n",
      "原子索引：6-7-5，键类型：AROMATIC，角度：30.07度\n",
      "原子索引：7-8-6，键类型：AROMATIC，角度：30.03度\n",
      "原子索引：8-9-7，键类型：AROMATIC，角度：29.44度\n",
      "原子索引：9-10-8，键类型：SINGLE，角度：30.04度\n",
      "原子索引：10-11-9，键类型：DOUBLE，角度：31.99度\n",
      "原子索引：10-12-9，键类型：SINGLE，角度：31.08度\n",
      "原子索引：9-4-8，键类型：AROMATIC，角度：30.20度\n"
     ]
    }
   ],
   "source": [
    "# 获取原子索引\n",
    "atom_indices = [atom.GetIdx() for atom in molecule.GetAtoms()]\n",
    "\n",
    "# 获取每个键的原子索引\n",
    "for bond in molecule.GetBonds():\n",
    "    atom1_index = bond.GetBeginAtomIdx()\n",
    "    atom2_index = bond.GetEndAtomIdx()\n",
    "    bond_type = bond.GetBondType()\n",
    "\n",
    "    # 获取原子\n",
    "    atom1 = molecule.GetAtomWithIdx(atom1_index)\n",
    "    atom2 = molecule.GetAtomWithIdx(atom2_index)\n",
    "\n",
    "    # 寻找共用键的第三个原子\n",
    "    for neighbor in atom1.GetNeighbors():\n",
    "        if neighbor.GetIdx() != atom2_index:\n",
    "            atom3_index = neighbor.GetIdx()\n",
    "            break\n",
    "    else:\n",
    "        continue  # 如果没有第三个原子，则跳过当前键\n",
    "\n",
    "    # 计算键角，使用原子的三维坐标\n",
    "    angle = Chem.rdMolTransforms.GetAngleDeg(molecule.GetConformer(), atom1_index, atom2_index, atom3_index)\n",
    "    print(f\"原子索引：{atom1_index}-{atom2_index}-{atom3_index}，键类型：{bond_type}，角度：{angle:.2f}度\")"
   ]
  },
  {
   "cell_type": "markdown",
   "id": "602946e4-b67d-4855-a51a-fad268fe1a88",
   "metadata": {},
   "source": [
    "扩展连接指纹（ECFP）  \n",
    "原理：ECFP通过考虑分子中原子的化学环境（原子的类型、键的类型、连接的原子）来生成。它通过递增半径迭代地编码这些环境，生成唯一的指纹。  \n",
    "位数：可变，常见的有1024位或2048位。  \n",
    "反映的结构信息：能够表示分子中的原子环境，包括局部的分子结构和原子的连通性。  "
   ]
  },
  {
   "cell_type": "code",
   "execution_count": 6,
   "id": "2addaa9c-1dc0-4aed-bcc9-15dd82eed070",
   "metadata": {},
   "outputs": [
    {
     "name": "stdout",
     "output_type": "stream",
     "text": [
      "2048\n",
      "ECFP分子指纹二进制表示:00000000000000000000000000000000000000000000000000000000000000000000000000000000000000000000000000000000000000000000000000000000000000000000000000000000000000000000000000000000000000000000000000000000000000000000000000000000000000000000000000000000000000000000000000000000000000000000000000000000000000000000000000000000000000000000000000000000000000000000000000000000000000000000000000000100000000000000000000000000000000000000000000000000000000000000000010000000000000000000000000000000000000000000000000000000000000000000000000000000000000000000000000000000000000000000000000000000000000000000000000000000000000000000000000000000000000000000000000100000000000000000000000000000000000000000000100000000000000000000000000000000000000000000000000000000000000000000000000000000000000000000000000000000000000010000000000000000000000000000000000000000000000000000000000000000000000000000000000000000000000000000010000000000000000000000000000000000000000000000000000000000000000000000000000000000000000000000000000000000010000000000000000010000000000010000000001000000000000000000000000000000100000000000000000000000000000000000000000000000000000000000000000000000000000000000000000000000000000000000000100000000000000000000000000000000000000000000000000000000000000000000000000000000000000000000000000000000000000000000000000000000000000000000000000000000000000000000000000000000000010000000000000000000000000000010000000000000000000000000000000000001000000000000000000001000000000000000000000000000000000000000000000000000000000000000000000000000000000000000000000000000000000000000000000000000000000000000000000000000100000000000000000000000000000000000000000000000000000000000000000000000000000000000000000000000000000000000000001000000000000000000001000000000000000000000000100000000000000000000000000000000000000000000000000000000000000000000000000000000000000000000000001000000000000000000000000000000000000000000010000000000000000000000000000000000000000000000000000100000000000000000000100000000000000000000000000000000000000000000000000000000\n"
     ]
    }
   ],
   "source": [
    "# 生成ECFP(扩展连接指纹)分子指纹\n",
    "ecfp_fingerprint = AllChem.GetMorganFingerprintAsBitVect(molecule, radius=2, nBits=2048)\n",
    "# 将分子指纹转换为01字符串\n",
    "fingerprint_bits = ecfp_fingerprint.ToBitString()\n",
    "print(len(fingerprint_bits))\n",
    "print(f'ECFP分子指纹二进制表示:{ fingerprint_bits}')"
   ]
  },
  {
   "cell_type": "markdown",
   "id": "028461d2-52ac-4a4e-a95b-2961801435bd",
   "metadata": {},
   "source": [
    "MACCS键指纹  \n",
    "原理：MACCS键指纹基于166个预定义的结构键。每个键代表分子中可能出现的特定化学结构模式，如特定类型的原子、键或官能团。  \n",
    "位数：通常有166位。  \n",
    "反映的结构信息：可以捕捉到分子中是否存在特定的化学结构和官能团。  "
   ]
  },
  {
   "cell_type": "code",
   "execution_count": 8,
   "id": "83fd6193-82a5-45e0-98e8-ec11305522ea",
   "metadata": {},
   "outputs": [
    {
     "name": "stdout",
     "output_type": "stream",
     "text": [
      "167\n",
      "MACCS分子指纹二进制表示:00000000000000000000000000000000000000000000000000000000000000000000000000000000000000000100000000000000000000000100000000010011000000001001100110100010101001011011110\n"
     ]
    }
   ],
   "source": [
    "# 计算分子的MACCS指纹\n",
    "maccs_fp = MACCSkeys.GenMACCSKeys(molecule)\n",
    "# 将MACCS指纹转换为二进制字符串\n",
    "maccs_fp_bits = maccs_fp.ToBitString()\n",
    "print(len(maccs_fp_bits))\n",
    "print(f\"MACCS分子指纹二进制表示:{maccs_fp_bits}\")"
   ]
  },
  {
   "cell_type": "markdown",
   "id": "e8fab0b4-8c3f-4c22-bb9c-ec121dce6fb1",
   "metadata": {},
   "source": [
    "PubChem指纹  \n",
    "原理：PubChem指纹由一系列预定义的规则组成，这些规则描述了分子结构中可能出现的各种特征。  \n",
    "位数：PubChem指纹有881位。  \n",
    "反映的结构信息：能够表示分子中存在的各种化学结构特征，如环系统、键类型、官能团等。  "
   ]
  },
  {
   "cell_type": "code",
   "execution_count": 9,
   "id": "7faa8dd6-e339-47d0-a594-0545d1627575",
   "metadata": {},
   "outputs": [
    {
     "name": "stdout",
     "output_type": "stream",
     "text": [
      "881\n",
      "Pubchem分子指纹二进制表示:11000000011100000011100000000000000000000000000000000000000000000000000000000000000000000000000000000000000000000000000000000000000000000000000000000000000000000000000000000000001100000000000000000000000000000000000000000000000000000000000000000000000000010000000000000000000000000001101000000000000000000000100000000000000000000000110000000100100000001001100000000000001100100000111010000000000000000000011000000000100010000000001000100000110100100000100000000000000000100000100000000000001001000010000000000000000010001000100000000001000001100000100011001000000011000010011100110110100001000011010100011010100000100111101101100000101001011110000000010001000010001011100110000111100010001100100000100000100011100000000000000000000000000000000000000000000010000000000000000000000000000000000000000000000000000000000000010000000000000000000000000000000000000000000000000000000000000\n"
     ]
    }
   ],
   "source": [
    "from pubchempy import get_compounds\n",
    "\n",
    "# 通过SMILES表示式搜索阿司匹林\n",
    "aspirin_compounds = get_compounds('CC(=O)OC1=CC=CC=C1C(=O)O', 'smiles')\n",
    "\n",
    "# 获取PubChem指纹\n",
    "aspirin_pubchem_fp = aspirin_compounds[0].cactvs_fingerprint\n",
    "print(len(aspirin_pubchem_fp))\n",
    "print(f\"Pubchem分子指纹二进制表示:{aspirin_pubchem_fp}\")"
   ]
  }
 ],
 "metadata": {
  "kernelspec": {
   "display_name": "Python 3 (ipykernel)",
   "language": "python",
   "name": "python3"
  },
  "language_info": {
   "codemirror_mode": {
    "name": "ipython",
    "version": 3
   },
   "file_extension": ".py",
   "mimetype": "text/x-python",
   "name": "python",
   "nbconvert_exporter": "python",
   "pygments_lexer": "ipython3",
   "version": "3.11.4"
  }
 },
 "nbformat": 4,
 "nbformat_minor": 5
}
