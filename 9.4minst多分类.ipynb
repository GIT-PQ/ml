{
 "cells": [
  {
   "cell_type": "code",
   "execution_count": 1,
   "id": "e6cdb1a7-1e31-44e7-9a07-4db43d6d57f5",
   "metadata": {},
   "outputs": [],
   "source": [
    "import torch\n",
    "from torchvision import transforms\n",
    "from torchvision import datasets\n",
    "from torch.utils.data import DataLoader\n",
    "import torch.nn.functional as F\n",
    "import torch.optim as optim\n",
    " "
   ]
  },
  {
   "cell_type": "code",
   "execution_count": 2,
   "id": "31aea174-f4bd-4091-9d89-ae4bb6a11048",
   "metadata": {},
   "outputs": [],
   "source": [
    "# 准备数据\n",
    "# 设置每个批次的数据量\n",
    "batch_size = 64\n",
    "# 将whc 转为 cwh\n",
    "# 将数据标准化 均值和方差\n",
    "transform = transforms.Compose([transforms.ToTensor(), transforms.Normalize((0.1307,), (0.3081,))])\n",
    "# 加载数据\n",
    "# 不进行打乱，不然特征和标签难以对应\n",
    "train_dataset = datasets.MNIST(root='./data', train=True, download=True, transform=transform)\n",
    "train_loader = DataLoader(train_dataset, shuffle=False, batch_size=batch_size)\n",
    "test_dataset = datasets.MNIST(root='./data', train=False, download=True, transform=transform)\n",
    "test_loader = DataLoader(test_dataset, shuffle=False, batch_size=batch_size)"
   ]
  },
  {
   "cell_type": "code",
   "execution_count": 4,
   "id": "8411f984-d07a-4241-9dc0-f01e272fe96e",
   "metadata": {},
   "outputs": [],
   "source": [
    "# 设计模型\n",
    "class Net(torch.nn.Module):\n",
    "    def __init__(self):\n",
    "        super(Net, self).__init__()\n",
    "        # minst的图片大小为28*28\n",
    "        self.l1 = torch.nn.Linear(784, 512)\n",
    "        self.l2 = torch.nn.Linear(512, 256)\n",
    "        self.l3 = torch.nn.Linear(256, 128)\n",
    "        self.l4 = torch.nn.Linear(128, 64)\n",
    "        self.l5 = torch.nn.Linear(64, 10)\n",
    " \n",
    "    def forward(self, x):\n",
    "        x = x.view(-1, 784)  # -1其实就是自动获取mini_batch\n",
    "        x = F.relu(self.l1(x))\n",
    "        x = F.relu(self.l2(x))\n",
    "        x = F.relu(self.l3(x))\n",
    "        x = F.relu(self.l4(x))\n",
    "        return self.l5(x)  # 最后一层不做激活，不进行非线性变换"
   ]
  },
  {
   "cell_type": "code",
   "execution_count": 5,
   "id": "0cbc8362-c7b3-48ff-a2ce-8a2a7c4edc84",
   "metadata": {},
   "outputs": [],
   "source": [
    "model = Net()\n",
    "# 构建损失和优化器\n",
    "criterion = torch.nn.CrossEntropyLoss()\n",
    "optimizer = optim.SGD(model.parameters(), lr=0.01, momentum=0.5)"
   ]
  },
  {
   "cell_type": "code",
   "execution_count": 6,
   "id": "39b7bcba-270e-4293-a437-d6df0f179cfb",
   "metadata": {},
   "outputs": [],
   "source": [
    "# 定义训练和测试过程\n",
    "def train(epoch):\n",
    "    running_loss = 0.0\n",
    "    for batch_idx, data in enumerate(train_loader, 0):\n",
    "        # 获得一个批次的数据和标签\n",
    "        inputs, target = data\n",
    "        optimizer.zero_grad()\n",
    "        # 获得模型预测结果(64, 10)\n",
    "        outputs = model(inputs)\n",
    "        # 交叉熵代价函数outputs(64,10),target（64）\n",
    "        loss = criterion(outputs, target)\n",
    "        loss.backward()\n",
    "        optimizer.step()\n",
    " \n",
    "        running_loss += loss.item()\n",
    "        if batch_idx % 300 == 299:\n",
    "            print('[%d, %5d] loss: %.3f' % (epoch+1, batch_idx+1, running_loss/300))\n",
    "            running_loss = 0.0\n",
    " \n",
    " \n",
    "def test():\n",
    "    correct = 0\n",
    "    total = 0\n",
    "    with torch.no_grad():\n",
    "        for data in test_loader:\n",
    "            images, labels = data\n",
    "            outputs = model(images)\n",
    "            _, predicted = torch.max(outputs.data, dim=1) # dim = 1 列是第0个维度，行是第1个维度\n",
    "            total += labels.size(0)\n",
    "            correct += (predicted == labels).sum().item() # 张量之间的比较运算\n",
    "    print('accuracy on test set: %d %% ' % (100*correct/total))\n",
    " "
   ]
  },
  {
   "cell_type": "code",
   "execution_count": 7,
   "id": "d4d28b8f-1eda-4e67-a0f1-e150d288d901",
   "metadata": {
    "scrolled": true
   },
   "outputs": [
    {
     "name": "stdout",
     "output_type": "stream",
     "text": [
      "[1,   300] loss: 2.146\n",
      "[1,   600] loss: 0.743\n",
      "[1,   900] loss: 0.398\n",
      "accuracy on test set: 89 % \n",
      "[2,   300] loss: 0.313\n",
      "[2,   600] loss: 0.267\n",
      "[2,   900] loss: 0.231\n",
      "accuracy on test set: 93 % \n",
      "[3,   300] loss: 0.190\n",
      "[3,   600] loss: 0.175\n",
      "[3,   900] loss: 0.159\n",
      "accuracy on test set: 95 % \n",
      "[4,   300] loss: 0.133\n",
      "[4,   600] loss: 0.130\n",
      "[4,   900] loss: 0.121\n",
      "accuracy on test set: 96 % \n",
      "[5,   300] loss: 0.101\n",
      "[5,   600] loss: 0.101\n",
      "[5,   900] loss: 0.097\n",
      "accuracy on test set: 96 % \n",
      "[6,   300] loss: 0.079\n",
      "[6,   600] loss: 0.079\n",
      "[6,   900] loss: 0.078\n",
      "accuracy on test set: 97 % \n",
      "[7,   300] loss: 0.063\n",
      "[7,   600] loss: 0.064\n",
      "[7,   900] loss: 0.063\n",
      "accuracy on test set: 97 % \n",
      "[8,   300] loss: 0.051\n",
      "[8,   600] loss: 0.051\n",
      "[8,   900] loss: 0.051\n",
      "accuracy on test set: 97 % \n",
      "[9,   300] loss: 0.041\n",
      "[9,   600] loss: 0.041\n",
      "[9,   900] loss: 0.041\n",
      "accuracy on test set: 97 % \n",
      "[10,   300] loss: 0.032\n",
      "[10,   600] loss: 0.033\n",
      "[10,   900] loss: 0.032\n",
      "accuracy on test set: 97 % \n"
     ]
    }
   ],
   "source": [
    " if __name__ == '__main__':\n",
    "    for epoch in range(10):\n",
    "        train(epoch)\n",
    "        test()"
   ]
  }
 ],
 "metadata": {
  "kernelspec": {
   "display_name": "Python 3 (ipykernel)",
   "language": "python",
   "name": "python3"
  },
  "language_info": {
   "codemirror_mode": {
    "name": "ipython",
    "version": 3
   },
   "file_extension": ".py",
   "mimetype": "text/x-python",
   "name": "python",
   "nbconvert_exporter": "python",
   "pygments_lexer": "ipython3",
   "version": "3.11.4"
  }
 },
 "nbformat": 4,
 "nbformat_minor": 5
}
